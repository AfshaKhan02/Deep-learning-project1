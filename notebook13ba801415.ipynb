{
  "metadata": {
    "kernelspec": {
      "language": "python",
      "display_name": "Python 3",
      "name": "python3"
    },
    "language_info": {
      "name": "python",
      "version": "3.10.13",
      "mimetype": "text/x-python",
      "codemirror_mode": {
        "name": "ipython",
        "version": 3
      },
      "pygments_lexer": "ipython3",
      "nbconvert_exporter": "python",
      "file_extension": ".py"
    },
    "kaggle": {
      "accelerator": "none",
      "dataSources": [
        {
          "sourceId": 3136,
          "databundleVersionId": 26502,
          "sourceType": "competition"
        }
      ],
      "dockerImageVersionId": 30698,
      "isInternetEnabled": false,
      "language": "python",
      "sourceType": "notebook",
      "isGpuEnabled": false
    },
    "colab": {
      "name": "notebook13ba801415",
      "provenance": []
    }
  },
  "nbformat_minor": 0,
  "nbformat": 4,
  "cells": [
    {
      "source": [
        "\n",
        "# IMPORTANT: RUN THIS CELL IN ORDER TO IMPORT YOUR KAGGLE DATA SOURCES\n",
        "# TO THE CORRECT LOCATION (/kaggle/input) IN YOUR NOTEBOOK,\n",
        "# THEN FEEL FREE TO DELETE THIS CELL.\n",
        "# NOTE: THIS NOTEBOOK ENVIRONMENT DIFFERS FROM KAGGLE'S PYTHON\n",
        "# ENVIRONMENT SO THERE MAY BE MISSING LIBRARIES USED BY YOUR\n",
        "# NOTEBOOK.\n",
        "\n",
        "import os\n",
        "import sys\n",
        "from tempfile import NamedTemporaryFile\n",
        "from urllib.request import urlopen\n",
        "from urllib.parse import unquote, urlparse\n",
        "from urllib.error import HTTPError\n",
        "from zipfile import ZipFile\n",
        "import tarfile\n",
        "import shutil\n",
        "\n",
        "CHUNK_SIZE = 40960\n",
        "DATA_SOURCE_MAPPING = 'titanic:https%3A%2F%2Fstorage.googleapis.com%2Fkaggle-competitions-data%2Fkaggle-v2%2F3136%2F26502%2Fbundle%2Farchive.zip%3FX-Goog-Algorithm%3DGOOG4-RSA-SHA256%26X-Goog-Credential%3Dgcp-kaggle-com%2540kaggle-161607.iam.gserviceaccount.com%252F20240502%252Fauto%252Fstorage%252Fgoog4_request%26X-Goog-Date%3D20240502T091900Z%26X-Goog-Expires%3D259200%26X-Goog-SignedHeaders%3Dhost%26X-Goog-Signature%3D9e38dc258372045af5e03109ba16bbbbb2a99b152224473527761de8c4568e70c49f5c76338a78a1ca32f6a09855536194057015e8e65a8b8a9d96f25c037639ad98435717de3abd294a089989283b8f990dedd55245a37da06303cfe1f3fb6bc52fb5114d8986f47eb8e19b8cd9aa9afefcaec244f2235226aae483f8963c72ade80beb34708db161bede48fcea989bd400518f6e123b384103a9c0172615c49bcfde2b6d76b00282c2d87008bd10339f4dadb17409397e309744391853addb4248a27ddbf0cd67cf4c2228a1c950e5c8a20be69ce8678c6ba497473dcfff515ba045100cf7c837b411f08d6332c30ae4d90a4b81591c70b32fadda4e191153'\n",
        "\n",
        "KAGGLE_INPUT_PATH='/kaggle/input'\n",
        "KAGGLE_WORKING_PATH='/kaggle/working'\n",
        "KAGGLE_SYMLINK='kaggle'\n",
        "\n",
        "!umount /kaggle/input/ 2> /dev/null\n",
        "shutil.rmtree('/kaggle/input', ignore_errors=True)\n",
        "os.makedirs(KAGGLE_INPUT_PATH, 0o777, exist_ok=True)\n",
        "os.makedirs(KAGGLE_WORKING_PATH, 0o777, exist_ok=True)\n",
        "\n",
        "try:\n",
        "  os.symlink(KAGGLE_INPUT_PATH, os.path.join(\"..\", 'input'), target_is_directory=True)\n",
        "except FileExistsError:\n",
        "  pass\n",
        "try:\n",
        "  os.symlink(KAGGLE_WORKING_PATH, os.path.join(\"..\", 'working'), target_is_directory=True)\n",
        "except FileExistsError:\n",
        "  pass\n",
        "\n",
        "for data_source_mapping in DATA_SOURCE_MAPPING.split(','):\n",
        "    directory, download_url_encoded = data_source_mapping.split(':')\n",
        "    download_url = unquote(download_url_encoded)\n",
        "    filename = urlparse(download_url).path\n",
        "    destination_path = os.path.join(KAGGLE_INPUT_PATH, directory)\n",
        "    try:\n",
        "        with urlopen(download_url) as fileres, NamedTemporaryFile() as tfile:\n",
        "            total_length = fileres.headers['content-length']\n",
        "            print(f'Downloading {directory}, {total_length} bytes compressed')\n",
        "            dl = 0\n",
        "            data = fileres.read(CHUNK_SIZE)\n",
        "            while len(data) > 0:\n",
        "                dl += len(data)\n",
        "                tfile.write(data)\n",
        "                done = int(50 * dl / int(total_length))\n",
        "                sys.stdout.write(f\"\\r[{'=' * done}{' ' * (50-done)}] {dl} bytes downloaded\")\n",
        "                sys.stdout.flush()\n",
        "                data = fileres.read(CHUNK_SIZE)\n",
        "            if filename.endswith('.zip'):\n",
        "              with ZipFile(tfile) as zfile:\n",
        "                zfile.extractall(destination_path)\n",
        "            else:\n",
        "              with tarfile.open(tfile.name) as tarfile:\n",
        "                tarfile.extractall(destination_path)\n",
        "            print(f'\\nDownloaded and uncompressed: {directory}')\n",
        "    except HTTPError as e:\n",
        "        print(f'Failed to load (likely expired) {download_url} to path {destination_path}')\n",
        "        continue\n",
        "    except OSError as e:\n",
        "        print(f'Failed to load {download_url} to path {destination_path}')\n",
        "        continue\n",
        "\n",
        "print('Data source import complete.')\n"
      ],
      "metadata": {
        "id": "NfO3Do1BmaIz"
      },
      "cell_type": "code",
      "outputs": [],
      "execution_count": null
    },
    {
      "cell_type": "code",
      "source": [
        "# This Python 3 environment comes with many helpful analytics libraries installed\n",
        "# It is defined by the kaggle/python Docker image: https://github.com/kaggle/docker-python\n",
        "# For example, here's several helpful packages to load\n",
        "\n",
        "import numpy as np # linear algebra\n",
        "import pandas as pd # data processing, CSV file I/O (e.g. pd.read_csv)\n",
        "\n",
        "# Input data files are available in the read-only \"../input/\" directory\n",
        "# For example, running this (by clicking run or pressing Shift+Enter) will list all files under the input directory\n",
        "\n",
        "import os\n",
        "for dirname, _, filenames in os.walk('/kaggle/input'):\n",
        "    for filename in filenames:\n",
        "        print(os.path.join(dirname, filename))\n",
        "\n",
        "# You can write up to 20GB to the current directory (/kaggle/working/) that gets preserved as output when you create a version using \"Save & Run All\"\n",
        "# You can also write temporary files to /kaggle/temp/, but they won't be saved outside of the current session"
      ],
      "metadata": {
        "_uuid": "8f2839f25d086af736a60e9eeb907d3b93b6e0e5",
        "_cell_guid": "b1076dfc-b9ad-4769-8c92-a6c4dae69d19",
        "execution": {
          "iopub.status.busy": "2024-05-01T19:32:36.559409Z",
          "iopub.execute_input": "2024-05-01T19:32:36.559768Z",
          "iopub.status.idle": "2024-05-01T19:32:36.880011Z",
          "shell.execute_reply.started": "2024-05-01T19:32:36.559742Z",
          "shell.execute_reply": "2024-05-01T19:32:36.878973Z"
        },
        "trusted": true,
        "id": "5tR_h2UKmaI7"
      },
      "execution_count": null,
      "outputs": []
    },
    {
      "cell_type": "markdown",
      "source": [
        "## Import Modules"
      ],
      "metadata": {
        "id": "MVNTFvHfmaI9"
      }
    },
    {
      "cell_type": "code",
      "source": [
        "import pandas as pd\n",
        "import numpy as np\n",
        "import seaborn as sns\n",
        "import matplotlib.pyplot as plt\n",
        "import warnings\n",
        "warnings.filterwarnings('ignore')\n",
        "%matplotlib inline\n"
      ],
      "metadata": {
        "execution": {
          "iopub.status.busy": "2024-05-01T19:32:36.881891Z",
          "iopub.execute_input": "2024-05-01T19:32:36.882544Z",
          "iopub.status.idle": "2024-05-01T19:32:37.577609Z",
          "shell.execute_reply.started": "2024-05-01T19:32:36.882515Z",
          "shell.execute_reply": "2024-05-01T19:32:37.576652Z"
        },
        "trusted": true,
        "id": "AykKab2NmaI_"
      },
      "execution_count": null,
      "outputs": []
    },
    {
      "cell_type": "markdown",
      "source": [
        "## Loading the dataset"
      ],
      "metadata": {
        "id": "Wl3Wa364maJA"
      }
    },
    {
      "cell_type": "code",
      "source": [
        "train = pd.read_csv('/kaggle/input/titanic/train.csv')\n",
        "test = pd.read_csv('/kaggle/input/titanic/test.csv')\n",
        "train.head()"
      ],
      "metadata": {
        "execution": {
          "iopub.status.busy": "2024-05-01T19:32:37.578988Z",
          "iopub.execute_input": "2024-05-01T19:32:37.579284Z",
          "iopub.status.idle": "2024-05-01T19:32:37.634255Z",
          "shell.execute_reply.started": "2024-05-01T19:32:37.57926Z",
          "shell.execute_reply": "2024-05-01T19:32:37.633117Z"
        },
        "trusted": true,
        "id": "TBDjZHUkmaJB"
      },
      "execution_count": null,
      "outputs": []
    },
    {
      "cell_type": "code",
      "source": [
        "sns.countplot(train['Survived'])"
      ],
      "metadata": {
        "execution": {
          "iopub.status.busy": "2024-05-01T19:32:37.636473Z",
          "iopub.execute_input": "2024-05-01T19:32:37.638478Z",
          "iopub.status.idle": "2024-05-01T19:32:37.843104Z",
          "shell.execute_reply.started": "2024-05-01T19:32:37.638427Z",
          "shell.execute_reply": "2024-05-01T19:32:37.84202Z"
        },
        "trusted": true,
        "id": "yjhTvq8vmaJC"
      },
      "execution_count": null,
      "outputs": []
    },
    {
      "cell_type": "code",
      "source": [
        "sns.barplot(data = train, x = 'Pclass', y = 'Fare', hue = 'Survived')"
      ],
      "metadata": {
        "execution": {
          "iopub.status.busy": "2024-05-01T20:39:03.623561Z",
          "iopub.execute_input": "2024-05-01T20:39:03.624044Z",
          "iopub.status.idle": "2024-05-01T20:39:04.011959Z",
          "shell.execute_reply.started": "2024-05-01T20:39:03.62401Z",
          "shell.execute_reply": "2024-05-01T20:39:04.010775Z"
        },
        "trusted": true,
        "id": "O1sscohjmaJD"
      },
      "execution_count": null,
      "outputs": []
    },
    {
      "cell_type": "markdown",
      "source": [
        "## Data Preprocessing"
      ],
      "metadata": {
        "id": "BqBOJl2lmaJE"
      }
    },
    {
      "cell_type": "code",
      "source": [
        "train_len = len(train)\n",
        "#combine two dataframes\n",
        "df = pd.concat([train, test], axis=0)\n",
        "df = df.reset_index(drop=True)\n",
        "df.head()"
      ],
      "metadata": {
        "execution": {
          "iopub.status.busy": "2024-05-01T19:33:45.683093Z",
          "iopub.execute_input": "2024-05-01T19:33:45.683473Z",
          "iopub.status.idle": "2024-05-01T19:33:45.707184Z",
          "shell.execute_reply.started": "2024-05-01T19:33:45.683444Z",
          "shell.execute_reply": "2024-05-01T19:33:45.706226Z"
        },
        "trusted": true,
        "id": "nOSs7yiKmaJE"
      },
      "execution_count": null,
      "outputs": []
    },
    {
      "cell_type": "code",
      "source": [
        "df.tail()"
      ],
      "metadata": {
        "execution": {
          "iopub.status.busy": "2024-05-01T19:35:26.219113Z",
          "iopub.execute_input": "2024-05-01T19:35:26.219492Z",
          "iopub.status.idle": "2024-05-01T19:35:26.235798Z",
          "shell.execute_reply.started": "2024-05-01T19:35:26.219463Z",
          "shell.execute_reply": "2024-05-01T19:35:26.23448Z"
        },
        "trusted": true,
        "id": "7St7Q-bNmaJF"
      },
      "execution_count": null,
      "outputs": []
    },
    {
      "cell_type": "code",
      "source": [
        "## find the null values\n",
        "df.isnull().sum()"
      ],
      "metadata": {
        "execution": {
          "iopub.status.busy": "2024-05-01T19:43:35.638692Z",
          "iopub.execute_input": "2024-05-01T19:43:35.639078Z",
          "iopub.status.idle": "2024-05-01T19:43:35.648276Z",
          "shell.execute_reply.started": "2024-05-01T19:43:35.639046Z",
          "shell.execute_reply": "2024-05-01T19:43:35.647216Z"
        },
        "trusted": true,
        "id": "Q5r8NRobmaJF"
      },
      "execution_count": null,
      "outputs": []
    },
    {
      "cell_type": "code",
      "source": [
        "df = df.drop(columns=['Cabin'], axis = 1)"
      ],
      "metadata": {
        "execution": {
          "iopub.status.busy": "2024-05-01T19:56:16.865219Z",
          "iopub.execute_input": "2024-05-01T19:56:16.86617Z",
          "iopub.status.idle": "2024-05-01T19:56:16.873618Z",
          "shell.execute_reply.started": "2024-05-01T19:56:16.866136Z",
          "shell.execute_reply": "2024-05-01T19:56:16.872582Z"
        },
        "trusted": true,
        "id": "I0WU9F-8maJG"
      },
      "execution_count": null,
      "outputs": []
    },
    {
      "cell_type": "code",
      "source": [
        "#fill missing values using mean of that column\n",
        "df['Age'] = df['Age'].fillna(df['Age'].mean())\n",
        "df['Fare'] = df['Fare'].fillna(df['Fare'].mean())"
      ],
      "metadata": {
        "execution": {
          "iopub.status.busy": "2024-05-01T20:00:45.848351Z",
          "iopub.execute_input": "2024-05-01T20:00:45.848938Z",
          "iopub.status.idle": "2024-05-01T20:00:45.854829Z",
          "shell.execute_reply.started": "2024-05-01T20:00:45.848906Z",
          "shell.execute_reply": "2024-05-01T20:00:45.853854Z"
        },
        "trusted": true,
        "id": "fiD5ikVcmaJG"
      },
      "execution_count": null,
      "outputs": []
    },
    {
      "cell_type": "code",
      "source": [
        "df['Embarked'].mode()[0]"
      ],
      "metadata": {
        "execution": {
          "iopub.status.busy": "2024-05-01T20:13:35.382306Z",
          "iopub.execute_input": "2024-05-01T20:13:35.382677Z",
          "iopub.status.idle": "2024-05-01T20:13:35.391718Z",
          "shell.execute_reply.started": "2024-05-01T20:13:35.382651Z",
          "shell.execute_reply": "2024-05-01T20:13:35.39062Z"
        },
        "trusted": true,
        "id": "NgHaA5ttmaJH"
      },
      "execution_count": null,
      "outputs": []
    },
    {
      "cell_type": "code",
      "source": [
        "#fill missing values using mode of the categorical column\n",
        "df['Embarked'] = df['Embarked'].fillna(df['Embarked'].mode()[0])"
      ],
      "metadata": {
        "id": "oMfYGvEMmaJH"
      },
      "execution_count": null,
      "outputs": []
    },
    {
      "cell_type": "markdown",
      "source": [
        "## Log transformation for uniform data distribution"
      ],
      "metadata": {
        "id": "Jitg0lmNmaJH"
      }
    },
    {
      "cell_type": "code",
      "source": [
        "sns.distplot(train['Fare'])"
      ],
      "metadata": {
        "execution": {
          "iopub.status.busy": "2024-05-01T20:20:55.715067Z",
          "iopub.execute_input": "2024-05-01T20:20:55.716156Z",
          "iopub.status.idle": "2024-05-01T20:20:56.118146Z",
          "shell.execute_reply.started": "2024-05-01T20:20:55.716108Z",
          "shell.execute_reply": "2024-05-01T20:20:56.117246Z"
        },
        "trusted": true,
        "id": "axBpOOaQmaJI"
      },
      "execution_count": null,
      "outputs": []
    },
    {
      "cell_type": "code",
      "source": [
        "df['Fare'] = np.log(df['Fare']+1)"
      ],
      "metadata": {
        "execution": {
          "iopub.status.busy": "2024-05-01T20:23:48.552499Z",
          "iopub.execute_input": "2024-05-01T20:23:48.552932Z",
          "iopub.status.idle": "2024-05-01T20:23:48.55914Z",
          "shell.execute_reply.started": "2024-05-01T20:23:48.552897Z",
          "shell.execute_reply": "2024-05-01T20:23:48.558014Z"
        },
        "trusted": true,
        "id": "kZrVrciVmaJI"
      },
      "execution_count": null,
      "outputs": []
    },
    {
      "cell_type": "code",
      "source": [
        "sns.distplot(df['Fare'])"
      ],
      "metadata": {
        "execution": {
          "iopub.status.busy": "2024-05-01T20:24:24.354761Z",
          "iopub.execute_input": "2024-05-01T20:24:24.355365Z",
          "iopub.status.idle": "2024-05-01T20:24:24.716125Z",
          "shell.execute_reply.started": "2024-05-01T20:24:24.355335Z",
          "shell.execute_reply": "2024-05-01T20:24:24.71508Z"
        },
        "trusted": true,
        "id": "sMMf4KkymaJI"
      },
      "execution_count": null,
      "outputs": []
    },
    {
      "cell_type": "markdown",
      "source": [],
      "metadata": {
        "id": "7I09jOlomaJI"
      }
    },
    {
      "cell_type": "code",
      "source": [
        "df.head()"
      ],
      "metadata": {
        "execution": {
          "iopub.status.busy": "2024-05-01T20:39:57.536339Z",
          "iopub.execute_input": "2024-05-01T20:39:57.536747Z",
          "iopub.status.idle": "2024-05-01T20:39:57.552132Z",
          "shell.execute_reply.started": "2024-05-01T20:39:57.536717Z",
          "shell.execute_reply": "2024-05-01T20:39:57.551257Z"
        },
        "trusted": true,
        "id": "23xgBGWdmaJJ"
      },
      "execution_count": null,
      "outputs": []
    },
    {
      "cell_type": "code",
      "source": [
        "## drop unnnecessary columns\n",
        "df = df.drop(columns=['Name', 'Ticket'], axis=1)\n",
        "df.head()"
      ],
      "metadata": {
        "execution": {
          "iopub.status.busy": "2024-05-01T20:41:47.307626Z",
          "iopub.execute_input": "2024-05-01T20:41:47.308013Z",
          "iopub.status.idle": "2024-05-01T20:41:47.324051Z",
          "shell.execute_reply.started": "2024-05-01T20:41:47.307981Z",
          "shell.execute_reply": "2024-05-01T20:41:47.32275Z"
        },
        "trusted": true,
        "id": "Qlv3oDEHmaJJ"
      },
      "execution_count": null,
      "outputs": []
    },
    {
      "cell_type": "markdown",
      "source": [
        "## Label Encoding"
      ],
      "metadata": {
        "id": "UOsqdQoRmaJJ"
      }
    },
    {
      "cell_type": "code",
      "source": [
        "from sklearn.preprocessing import LabelEncoder\n",
        "cols = ['Sex', 'Embarked']\n",
        "le = LabelEncoder()\n",
        "\n",
        "for col in cols:\n",
        "    df[col] = le.fit_transform(df[col])\n",
        "df.head()"
      ],
      "metadata": {
        "execution": {
          "iopub.status.busy": "2024-05-01T20:44:54.957045Z",
          "iopub.execute_input": "2024-05-01T20:44:54.957916Z",
          "iopub.status.idle": "2024-05-01T20:44:55.002783Z",
          "shell.execute_reply.started": "2024-05-01T20:44:54.957865Z",
          "shell.execute_reply": "2024-05-01T20:44:55.001652Z"
        },
        "trusted": true,
        "id": "8I8FDnNDmaJK"
      },
      "execution_count": null,
      "outputs": []
    },
    {
      "cell_type": "markdown",
      "source": [
        "## Train-Test Split\n",
        "\n"
      ],
      "metadata": {
        "id": "UEPABU6kmaJK"
      }
    },
    {
      "cell_type": "code",
      "source": [
        "train = df.iloc[:train_len, :]\n",
        "test = df.iloc[train_len:, :]"
      ],
      "metadata": {
        "execution": {
          "iopub.status.busy": "2024-05-01T20:53:15.126305Z",
          "iopub.execute_input": "2024-05-01T20:53:15.126669Z",
          "iopub.status.idle": "2024-05-01T20:53:15.132509Z",
          "shell.execute_reply.started": "2024-05-01T20:53:15.126643Z",
          "shell.execute_reply": "2024-05-01T20:53:15.131098Z"
        },
        "trusted": true,
        "id": "CAUJ_U4imaJL"
      },
      "execution_count": null,
      "outputs": []
    },
    {
      "cell_type": "code",
      "source": [
        "train.head()"
      ],
      "metadata": {
        "execution": {
          "iopub.status.busy": "2024-05-01T20:53:29.904233Z",
          "iopub.execute_input": "2024-05-01T20:53:29.904656Z",
          "iopub.status.idle": "2024-05-01T20:53:29.919621Z",
          "shell.execute_reply.started": "2024-05-01T20:53:29.904623Z",
          "shell.execute_reply": "2024-05-01T20:53:29.918502Z"
        },
        "trusted": true,
        "id": "ObR3p0iEmaJL"
      },
      "execution_count": null,
      "outputs": []
    },
    {
      "cell_type": "code",
      "source": [
        "test.head()"
      ],
      "metadata": {
        "execution": {
          "iopub.status.busy": "2024-05-01T20:53:55.421448Z",
          "iopub.execute_input": "2024-05-01T20:53:55.422156Z",
          "iopub.status.idle": "2024-05-01T20:53:55.434886Z",
          "shell.execute_reply.started": "2024-05-01T20:53:55.42212Z",
          "shell.execute_reply": "2024-05-01T20:53:55.433983Z"
        },
        "trusted": true,
        "id": "n3Ej0PKtmaJL"
      },
      "execution_count": null,
      "outputs": []
    },
    {
      "cell_type": "code",
      "source": [
        "#input split\n",
        "X = train.drop(columns=['PassengerId','Survived'], axis =1)\n",
        "y = train['Survived']"
      ],
      "metadata": {
        "execution": {
          "iopub.status.busy": "2024-05-01T20:55:40.77174Z",
          "iopub.execute_input": "2024-05-01T20:55:40.77216Z",
          "iopub.status.idle": "2024-05-01T20:55:40.778445Z",
          "shell.execute_reply.started": "2024-05-01T20:55:40.772127Z",
          "shell.execute_reply": "2024-05-01T20:55:40.777344Z"
        },
        "trusted": true,
        "id": "EI3XcVxtmaJL"
      },
      "execution_count": null,
      "outputs": []
    },
    {
      "cell_type": "code",
      "source": [
        "X.head()"
      ],
      "metadata": {
        "execution": {
          "iopub.status.busy": "2024-05-01T20:55:57.161995Z",
          "iopub.execute_input": "2024-05-01T20:55:57.162374Z",
          "iopub.status.idle": "2024-05-01T20:55:57.176629Z",
          "shell.execute_reply.started": "2024-05-01T20:55:57.162345Z",
          "shell.execute_reply": "2024-05-01T20:55:57.175218Z"
        },
        "trusted": true,
        "id": "OtDQPKUkmaJM"
      },
      "execution_count": null,
      "outputs": []
    },
    {
      "cell_type": "code",
      "source": [
        "from sklearn.model_selection import train_test_split, cross_val_score\n",
        "\n",
        "def classify(model):\n",
        "    X_train, X_test, y_train, y_test = train_test_split(X, y, test_size=0.25, random_state = 42)\n",
        "    model.fit(X_train, y_train)\n",
        "    print('Accuracy:', model.score(X_test, y_test))\n",
        "\n",
        "    score = cross_val_score(model, X, y, cv=5)\n",
        "    print(score)\n",
        "    print('CV Score:', np.mean(score))"
      ],
      "metadata": {
        "execution": {
          "iopub.status.busy": "2024-05-01T21:11:16.191474Z",
          "iopub.execute_input": "2024-05-01T21:11:16.192516Z",
          "iopub.status.idle": "2024-05-01T21:11:16.198014Z",
          "shell.execute_reply.started": "2024-05-01T21:11:16.192481Z",
          "shell.execute_reply": "2024-05-01T21:11:16.197227Z"
        },
        "trusted": true,
        "id": "T0rHUN1tmaJM"
      },
      "execution_count": null,
      "outputs": []
    },
    {
      "cell_type": "code",
      "source": [
        "from sklearn.linear_model import LogisticRegression\n",
        "model = LogisticRegression()\n",
        "classify(model)"
      ],
      "metadata": {
        "execution": {
          "iopub.status.busy": "2024-05-01T21:11:17.619066Z",
          "iopub.execute_input": "2024-05-01T21:11:17.619493Z",
          "iopub.status.idle": "2024-05-01T21:11:17.735465Z",
          "shell.execute_reply.started": "2024-05-01T21:11:17.619461Z",
          "shell.execute_reply": "2024-05-01T21:11:17.734373Z"
        },
        "trusted": true,
        "id": "91PpLPbqmaJM"
      },
      "execution_count": null,
      "outputs": []
    },
    {
      "cell_type": "code",
      "source": [
        "from sklearn.tree import DecisionTreeClassifier\n",
        "model = DecisionTreeClassifier()\n",
        "classify(model)"
      ],
      "metadata": {
        "execution": {
          "iopub.status.busy": "2024-05-01T21:12:34.309248Z",
          "iopub.execute_input": "2024-05-01T21:12:34.309709Z",
          "iopub.status.idle": "2024-05-01T21:12:34.443192Z",
          "shell.execute_reply.started": "2024-05-01T21:12:34.309674Z",
          "shell.execute_reply": "2024-05-01T21:12:34.442145Z"
        },
        "trusted": true,
        "id": "qoxW_0zOmaJN"
      },
      "execution_count": null,
      "outputs": []
    },
    {
      "cell_type": "code",
      "source": [
        "from sklearn.ensemble import RandomForestClassifier\n",
        "model = RandomForestClassifier()\n",
        "classify(model)"
      ],
      "metadata": {
        "execution": {
          "iopub.status.busy": "2024-05-01T21:14:00.059234Z",
          "iopub.execute_input": "2024-05-01T21:14:00.059593Z",
          "iopub.status.idle": "2024-05-01T21:14:01.423622Z",
          "shell.execute_reply.started": "2024-05-01T21:14:00.059566Z",
          "shell.execute_reply": "2024-05-01T21:14:01.422002Z"
        },
        "trusted": true,
        "id": "_2M5eMy7maJN"
      },
      "execution_count": null,
      "outputs": []
    },
    {
      "cell_type": "code",
      "source": [
        "from lightgbm import LGBMClassifier\n",
        "model = LGBMClassifier()\n",
        "classify(model)"
      ],
      "metadata": {
        "execution": {
          "iopub.status.busy": "2024-05-01T21:18:05.76128Z",
          "iopub.execute_input": "2024-05-01T21:18:05.761705Z",
          "iopub.status.idle": "2024-05-01T21:18:06.255767Z",
          "shell.execute_reply.started": "2024-05-01T21:18:05.761673Z",
          "shell.execute_reply": "2024-05-01T21:18:06.2546Z"
        },
        "trusted": true,
        "id": "aAcgMkVVmaJN"
      },
      "execution_count": null,
      "outputs": []
    },
    {
      "cell_type": "markdown",
      "source": [
        "Complete model training with full data"
      ],
      "metadata": {
        "id": "z93kEd4BmaJN"
      }
    },
    {
      "cell_type": "code",
      "source": [
        "model = LGBMClassifier()\n",
        "model.fit(X,y)"
      ],
      "metadata": {
        "execution": {
          "iopub.status.busy": "2024-05-01T21:19:26.969861Z",
          "iopub.execute_input": "2024-05-01T21:19:26.970245Z",
          "iopub.status.idle": "2024-05-01T21:19:27.025253Z",
          "shell.execute_reply.started": "2024-05-01T21:19:26.970216Z",
          "shell.execute_reply": "2024-05-01T21:19:27.024055Z"
        },
        "trusted": true,
        "id": "rLk219aZmaJO"
      },
      "execution_count": null,
      "outputs": []
    },
    {
      "cell_type": "code",
      "source": [
        "test.head()"
      ],
      "metadata": {
        "execution": {
          "iopub.status.busy": "2024-05-01T21:19:45.495738Z",
          "iopub.execute_input": "2024-05-01T21:19:45.496136Z",
          "iopub.status.idle": "2024-05-01T21:19:45.509491Z",
          "shell.execute_reply.started": "2024-05-01T21:19:45.496104Z",
          "shell.execute_reply": "2024-05-01T21:19:45.508074Z"
        },
        "trusted": true,
        "id": "xXLNI1HLmaJO"
      },
      "execution_count": null,
      "outputs": []
    },
    {
      "cell_type": "code",
      "source": [
        "#inpur split for test data\n",
        "X_test = test.drop(columns=['PassengerId','Survived'], axis = 1)"
      ],
      "metadata": {
        "execution": {
          "iopub.status.busy": "2024-05-01T21:24:04.995813Z",
          "iopub.execute_input": "2024-05-01T21:24:04.99623Z",
          "iopub.status.idle": "2024-05-01T21:24:05.002893Z",
          "shell.execute_reply.started": "2024-05-01T21:24:04.996199Z",
          "shell.execute_reply": "2024-05-01T21:24:05.001473Z"
        },
        "trusted": true,
        "id": "CS7584UomaJU"
      },
      "execution_count": null,
      "outputs": []
    },
    {
      "cell_type": "code",
      "source": [
        "X_test.head()"
      ],
      "metadata": {
        "execution": {
          "iopub.status.busy": "2024-05-01T21:24:06.173487Z",
          "iopub.execute_input": "2024-05-01T21:24:06.174193Z",
          "iopub.status.idle": "2024-05-01T21:24:06.186198Z",
          "shell.execute_reply.started": "2024-05-01T21:24:06.174145Z",
          "shell.execute_reply": "2024-05-01T21:24:06.184987Z"
        },
        "trusted": true,
        "id": "cR7dBuZlmaJU"
      },
      "execution_count": null,
      "outputs": []
    },
    {
      "cell_type": "code",
      "source": [
        "pred = model.predict(X_test)\n",
        "pred"
      ],
      "metadata": {
        "execution": {
          "iopub.status.busy": "2024-05-01T21:24:35.251798Z",
          "iopub.execute_input": "2024-05-01T21:24:35.252233Z",
          "iopub.status.idle": "2024-05-01T21:24:35.268345Z",
          "shell.execute_reply.started": "2024-05-01T21:24:35.252196Z",
          "shell.execute_reply": "2024-05-01T21:24:35.267511Z"
        },
        "trusted": true,
        "id": "kzqz2h84maJU"
      },
      "execution_count": null,
      "outputs": []
    },
    {
      "cell_type": "markdown",
      "source": [
        "## TEST SUBMISSION"
      ],
      "metadata": {
        "id": "Ut6y030bmaJU"
      }
    },
    {
      "cell_type": "code",
      "source": [
        "sub = pd.read_csv('/kaggle/input/titanic/gender_submission.csv')\n",
        "sub.head()"
      ],
      "metadata": {
        "execution": {
          "iopub.status.busy": "2024-05-01T21:27:06.098308Z",
          "iopub.execute_input": "2024-05-01T21:27:06.098677Z",
          "iopub.status.idle": "2024-05-01T21:27:06.117827Z",
          "shell.execute_reply.started": "2024-05-01T21:27:06.098651Z",
          "shell.execute_reply": "2024-05-01T21:27:06.117051Z"
        },
        "trusted": true,
        "id": "ZmXRPlYQmaJV"
      },
      "execution_count": null,
      "outputs": []
    },
    {
      "cell_type": "code",
      "source": [
        "sub['Survived'] = pred\n",
        "sub['Survived'] = sub['Survived'].astype('int')\n"
      ],
      "metadata": {
        "execution": {
          "iopub.status.busy": "2024-05-01T21:38:05.106139Z",
          "iopub.execute_input": "2024-05-01T21:38:05.10656Z",
          "iopub.status.idle": "2024-05-01T21:38:05.112231Z",
          "shell.execute_reply.started": "2024-05-01T21:38:05.106532Z",
          "shell.execute_reply": "2024-05-01T21:38:05.110979Z"
        },
        "trusted": true,
        "id": "LJp1-jvqmaJV"
      },
      "execution_count": null,
      "outputs": []
    },
    {
      "cell_type": "code",
      "source": [
        "sub.head()"
      ],
      "metadata": {
        "execution": {
          "iopub.status.busy": "2024-05-01T21:38:08.89884Z",
          "iopub.execute_input": "2024-05-01T21:38:08.899663Z",
          "iopub.status.idle": "2024-05-01T21:38:08.908069Z",
          "shell.execute_reply.started": "2024-05-01T21:38:08.89963Z",
          "shell.execute_reply": "2024-05-01T21:38:08.907264Z"
        },
        "trusted": true,
        "id": "zxFKVaq4maJV"
      },
      "execution_count": null,
      "outputs": []
    },
    {
      "cell_type": "code",
      "source": [
        "sub.to_csv('submission.csv', index= False)"
      ],
      "metadata": {
        "execution": {
          "iopub.status.busy": "2024-05-01T21:38:10.594153Z",
          "iopub.execute_input": "2024-05-01T21:38:10.59454Z",
          "iopub.status.idle": "2024-05-01T21:38:10.604286Z",
          "shell.execute_reply.started": "2024-05-01T21:38:10.594511Z",
          "shell.execute_reply": "2024-05-01T21:38:10.603077Z"
        },
        "trusted": true,
        "id": "Dpu0nknSmaJV"
      },
      "execution_count": null,
      "outputs": []
    },
    {
      "cell_type": "code",
      "source": [],
      "metadata": {
        "id": "i0FWwcVYmaJW"
      },
      "execution_count": null,
      "outputs": []
    }
  ]
}